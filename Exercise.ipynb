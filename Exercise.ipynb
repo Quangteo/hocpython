{
 "metadata": {
  "name": "",
  "signature": "sha256:ed60206b2f6d3e4da553542c2558a5276c86503434c6cad902699fd67f946ee4"
 },
 "nbformat": 3,
 "nbformat_minor": 0,
 "worksheets": []
}